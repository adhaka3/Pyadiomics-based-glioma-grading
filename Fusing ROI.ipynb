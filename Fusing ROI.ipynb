{
  "nbformat": 4,
  "nbformat_minor": 0,
  "metadata": {
    "colab": {
      "name": "Untitled1.ipynb",
      "provenance": []
    },
    "kernelspec": {
      "name": "python3",
      "display_name": "Python 3"
    }
  },
  "cells": [
    {
      "cell_type": "code",
      "metadata": {
        "id": "GssaepCpQfOY",
        "colab_type": "code",
        "colab": {}
      },
      "source": [
        "import io\n",
        "import pandas as pd\n",
        "import matplotlib.pyplot as plt\n",
        "import numpy as np\n",
        "import os\n",
        "from sklearn.metrics import precision_score\n",
        "from sklearn.metrics import recall_score\n",
        "from sklearn.metrics import roc_curve\n",
        "from sklearn.metrics import roc_auc_score\n",
        "from sklearn.model_selection import StratifiedKFold\n",
        "from sklearn.ensemble import RandomForestClassifier\n",
        "from sklearn.metrics import accuracy_score\n",
        "from sklearn.metrics import f1_score\n",
        "from sklearn.pipeline import make_pipeline\n",
        "import statistics\n",
        "\n",
        "\n",
        "rp=\"\" #path to the folder containing the image of a particular case\n",
        "mri=os.listdir(rp)\n",
        "mri.sort()\n",
        "  \n",
        "seg = sitk.ReadImage(rp+\"/\"+mri[1])#the segmented file\n",
        "seg = sitk.GetArrayFromImage(seg)\n",
        "width = 120\n",
        "height = 120\n",
        "segt1 = np.zeros((len(seg), width, height))\n",
        "\n",
        "for idx in range(len(seg)): \n",
        "  img = seg[idx, :, :]\n",
        "  img_sm = cv2.resize(img, (width, height), interpolation=cv2.INTER_CUBIC)\n",
        "  segt1[idx, :, :] = img_sm\n",
        "\n",
        "segt1=sitk.GetImageFromArray(segt1)#ROI 1 labelled as 1\n",
        "  \n",
        "ma_arr = sitk.GetArrayFromImage(segt1)\n",
        "for l in (1,4):\n",
        "  ma_arr[ma_arr == l] = 1\n",
        "\n",
        "segt2 = sitk.GetImageFromArray(ma_arr)\n",
        "segt2.CopyInformation(segt)#ROI 1 and 4 labeled as 1\n",
        "\n",
        "\n",
        "ma_arr = sitk.GetArrayFromImage(segt)\n",
        "for l in (1, 4, 2):\n",
        "  ma_arr[ma_arr == l] = 1\n",
        "\n",
        "segt3 = sitk.GetImageFromArray(ma_arr)\n",
        "segt3.CopyInformation(segt)#ROI 1,2,4 labeled as 1\n"
      ],
      "execution_count": 0,
      "outputs": []
    }
  ]
}